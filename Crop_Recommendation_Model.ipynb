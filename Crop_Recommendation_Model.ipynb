{
  "cells": [
    {
      "cell_type": "code",
      "execution_count": 2,
      "metadata": {
        "id": "9NXIslxsa8Xp"
      },
      "outputs": [],
      "source": [
        "# Importing libraries\n",
        "\n",
        "from __future__ import print_function\n",
        "import pandas as pd\n",
        "import matplotlib.pyplot as plt\n",
        "import numpy as np\n",
        "import matplotlib.pyplot as plt\n",
        "import seaborn as sns\n",
        "from sklearn.metrics import classification_report\n",
        "from sklearn import metrics\n",
        "from sklearn import tree\n",
        "import warnings\n",
        "warnings.filterwarnings('ignore')"
      ]
    },
    {
      "cell_type": "code",
      "execution_count": 3,
      "metadata": {
        "id": "99ePDV08a8Xs"
      },
      "outputs": [],
      "source": [
        "df = pd.read_csv('Crop_recommendation.csv')"
      ]
    },
    {
      "cell_type": "code",
      "execution_count": 4,
      "metadata": {
        "colab": {
          "base_uri": "https://localhost:8080/",
          "height": 206
        },
        "id": "zdAQ0H2Ga8Xt",
        "outputId": "76882f86-04fd-4d50-ce00-2cdbb7908f8f"
      },
      "outputs": [
        {
          "output_type": "execute_result",
          "data": {
            "text/plain": [
              "    N   P   K  temperature   humidity        ph    rainfall main_crop  \\\n",
              "0  90  42  43    20.879744  82.002744  6.502985  202.935536      rice   \n",
              "1  85  58  41    21.770462  80.319644  7.038096  226.655537      rice   \n",
              "2  60  55  44    23.004459  82.320763  7.840207  263.964248      rice   \n",
              "3  74  35  40    26.491096  80.158363  6.980401  242.864034      rice   \n",
              "4  78  42  42    20.130175  81.604873  7.628473  262.717340      rice   \n",
              "\n",
              "  comp_crop     trap_crop  \n",
              "0  Duckweed  Pusa Basmati  \n",
              "1  Duckweed  Pusa Basmati  \n",
              "2  Duckweed  Pusa Basmati  \n",
              "3  Duckweed  Pusa Basmati  \n",
              "4  Duckweed  Pusa Basmati  "
            ],
            "text/html": [
              "\n",
              "  <div id=\"df-2e3f485a-5d78-410d-81a9-1fc8d2c330c1\">\n",
              "    <div class=\"colab-df-container\">\n",
              "      <div>\n",
              "<style scoped>\n",
              "    .dataframe tbody tr th:only-of-type {\n",
              "        vertical-align: middle;\n",
              "    }\n",
              "\n",
              "    .dataframe tbody tr th {\n",
              "        vertical-align: top;\n",
              "    }\n",
              "\n",
              "    .dataframe thead th {\n",
              "        text-align: right;\n",
              "    }\n",
              "</style>\n",
              "<table border=\"1\" class=\"dataframe\">\n",
              "  <thead>\n",
              "    <tr style=\"text-align: right;\">\n",
              "      <th></th>\n",
              "      <th>N</th>\n",
              "      <th>P</th>\n",
              "      <th>K</th>\n",
              "      <th>temperature</th>\n",
              "      <th>humidity</th>\n",
              "      <th>ph</th>\n",
              "      <th>rainfall</th>\n",
              "      <th>main_crop</th>\n",
              "      <th>comp_crop</th>\n",
              "      <th>trap_crop</th>\n",
              "    </tr>\n",
              "  </thead>\n",
              "  <tbody>\n",
              "    <tr>\n",
              "      <th>0</th>\n",
              "      <td>90</td>\n",
              "      <td>42</td>\n",
              "      <td>43</td>\n",
              "      <td>20.879744</td>\n",
              "      <td>82.002744</td>\n",
              "      <td>6.502985</td>\n",
              "      <td>202.935536</td>\n",
              "      <td>rice</td>\n",
              "      <td>Duckweed</td>\n",
              "      <td>Pusa Basmati</td>\n",
              "    </tr>\n",
              "    <tr>\n",
              "      <th>1</th>\n",
              "      <td>85</td>\n",
              "      <td>58</td>\n",
              "      <td>41</td>\n",
              "      <td>21.770462</td>\n",
              "      <td>80.319644</td>\n",
              "      <td>7.038096</td>\n",
              "      <td>226.655537</td>\n",
              "      <td>rice</td>\n",
              "      <td>Duckweed</td>\n",
              "      <td>Pusa Basmati</td>\n",
              "    </tr>\n",
              "    <tr>\n",
              "      <th>2</th>\n",
              "      <td>60</td>\n",
              "      <td>55</td>\n",
              "      <td>44</td>\n",
              "      <td>23.004459</td>\n",
              "      <td>82.320763</td>\n",
              "      <td>7.840207</td>\n",
              "      <td>263.964248</td>\n",
              "      <td>rice</td>\n",
              "      <td>Duckweed</td>\n",
              "      <td>Pusa Basmati</td>\n",
              "    </tr>\n",
              "    <tr>\n",
              "      <th>3</th>\n",
              "      <td>74</td>\n",
              "      <td>35</td>\n",
              "      <td>40</td>\n",
              "      <td>26.491096</td>\n",
              "      <td>80.158363</td>\n",
              "      <td>6.980401</td>\n",
              "      <td>242.864034</td>\n",
              "      <td>rice</td>\n",
              "      <td>Duckweed</td>\n",
              "      <td>Pusa Basmati</td>\n",
              "    </tr>\n",
              "    <tr>\n",
              "      <th>4</th>\n",
              "      <td>78</td>\n",
              "      <td>42</td>\n",
              "      <td>42</td>\n",
              "      <td>20.130175</td>\n",
              "      <td>81.604873</td>\n",
              "      <td>7.628473</td>\n",
              "      <td>262.717340</td>\n",
              "      <td>rice</td>\n",
              "      <td>Duckweed</td>\n",
              "      <td>Pusa Basmati</td>\n",
              "    </tr>\n",
              "  </tbody>\n",
              "</table>\n",
              "</div>\n",
              "      <button class=\"colab-df-convert\" onclick=\"convertToInteractive('df-2e3f485a-5d78-410d-81a9-1fc8d2c330c1')\"\n",
              "              title=\"Convert this dataframe to an interactive table.\"\n",
              "              style=\"display:none;\">\n",
              "        \n",
              "  <svg xmlns=\"http://www.w3.org/2000/svg\" height=\"24px\"viewBox=\"0 0 24 24\"\n",
              "       width=\"24px\">\n",
              "    <path d=\"M0 0h24v24H0V0z\" fill=\"none\"/>\n",
              "    <path d=\"M18.56 5.44l.94 2.06.94-2.06 2.06-.94-2.06-.94-.94-2.06-.94 2.06-2.06.94zm-11 1L8.5 8.5l.94-2.06 2.06-.94-2.06-.94L8.5 2.5l-.94 2.06-2.06.94zm10 10l.94 2.06.94-2.06 2.06-.94-2.06-.94-.94-2.06-.94 2.06-2.06.94z\"/><path d=\"M17.41 7.96l-1.37-1.37c-.4-.4-.92-.59-1.43-.59-.52 0-1.04.2-1.43.59L10.3 9.45l-7.72 7.72c-.78.78-.78 2.05 0 2.83L4 21.41c.39.39.9.59 1.41.59.51 0 1.02-.2 1.41-.59l7.78-7.78 2.81-2.81c.8-.78.8-2.07 0-2.86zM5.41 20L4 18.59l7.72-7.72 1.47 1.35L5.41 20z\"/>\n",
              "  </svg>\n",
              "      </button>\n",
              "      \n",
              "  <style>\n",
              "    .colab-df-container {\n",
              "      display:flex;\n",
              "      flex-wrap:wrap;\n",
              "      gap: 12px;\n",
              "    }\n",
              "\n",
              "    .colab-df-convert {\n",
              "      background-color: #E8F0FE;\n",
              "      border: none;\n",
              "      border-radius: 50%;\n",
              "      cursor: pointer;\n",
              "      display: none;\n",
              "      fill: #1967D2;\n",
              "      height: 32px;\n",
              "      padding: 0 0 0 0;\n",
              "      width: 32px;\n",
              "    }\n",
              "\n",
              "    .colab-df-convert:hover {\n",
              "      background-color: #E2EBFA;\n",
              "      box-shadow: 0px 1px 2px rgba(60, 64, 67, 0.3), 0px 1px 3px 1px rgba(60, 64, 67, 0.15);\n",
              "      fill: #174EA6;\n",
              "    }\n",
              "\n",
              "    [theme=dark] .colab-df-convert {\n",
              "      background-color: #3B4455;\n",
              "      fill: #D2E3FC;\n",
              "    }\n",
              "\n",
              "    [theme=dark] .colab-df-convert:hover {\n",
              "      background-color: #434B5C;\n",
              "      box-shadow: 0px 1px 3px 1px rgba(0, 0, 0, 0.15);\n",
              "      filter: drop-shadow(0px 1px 2px rgba(0, 0, 0, 0.3));\n",
              "      fill: #FFFFFF;\n",
              "    }\n",
              "  </style>\n",
              "\n",
              "      <script>\n",
              "        const buttonEl =\n",
              "          document.querySelector('#df-2e3f485a-5d78-410d-81a9-1fc8d2c330c1 button.colab-df-convert');\n",
              "        buttonEl.style.display =\n",
              "          google.colab.kernel.accessAllowed ? 'block' : 'none';\n",
              "\n",
              "        async function convertToInteractive(key) {\n",
              "          const element = document.querySelector('#df-2e3f485a-5d78-410d-81a9-1fc8d2c330c1');\n",
              "          const dataTable =\n",
              "            await google.colab.kernel.invokeFunction('convertToInteractive',\n",
              "                                                     [key], {});\n",
              "          if (!dataTable) return;\n",
              "\n",
              "          const docLinkHtml = 'Like what you see? Visit the ' +\n",
              "            '<a target=\"_blank\" href=https://colab.research.google.com/notebooks/data_table.ipynb>data table notebook</a>'\n",
              "            + ' to learn more about interactive tables.';\n",
              "          element.innerHTML = '';\n",
              "          dataTable['output_type'] = 'display_data';\n",
              "          await google.colab.output.renderOutput(dataTable, element);\n",
              "          const docLink = document.createElement('div');\n",
              "          docLink.innerHTML = docLinkHtml;\n",
              "          element.appendChild(docLink);\n",
              "        }\n",
              "      </script>\n",
              "    </div>\n",
              "  </div>\n",
              "  "
            ]
          },
          "metadata": {},
          "execution_count": 4
        }
      ],
      "source": [
        "df.head()"
      ]
    },
    {
      "cell_type": "code",
      "execution_count": 5,
      "metadata": {
        "colab": {
          "base_uri": "https://localhost:8080/",
          "height": 206
        },
        "id": "E3zQ3omma8Xu",
        "outputId": "8637d6a6-199c-4f2c-85e9-63a0b57044aa"
      },
      "outputs": [
        {
          "output_type": "execute_result",
          "data": {
            "text/plain": [
              "        N   P   K  temperature   humidity        ph    rainfall main_crop  \\\n",
              "2195  107  34  32    26.774637  66.413269  6.780064  177.774507    coffee   \n",
              "2196   99  15  27    27.417112  56.636362  6.086922  127.924610    coffee   \n",
              "2197  118  33  30    24.131797  67.225123  6.362608  173.322839    coffee   \n",
              "2198  117  32  34    26.272418  52.127394  6.758793  127.175293    coffee   \n",
              "2199  104  18  30    23.603016  60.396475  6.779833  140.937041    coffee   \n",
              "\n",
              "     comp_crop trap_crop  \n",
              "2195     beans     vetch  \n",
              "2196     beans     vetch  \n",
              "2197     beans     vetch  \n",
              "2198     beans     vetch  \n",
              "2199     beans     vetch  "
            ],
            "text/html": [
              "\n",
              "  <div id=\"df-e2a1161a-c943-477b-b6f7-19bdfb7cd64e\">\n",
              "    <div class=\"colab-df-container\">\n",
              "      <div>\n",
              "<style scoped>\n",
              "    .dataframe tbody tr th:only-of-type {\n",
              "        vertical-align: middle;\n",
              "    }\n",
              "\n",
              "    .dataframe tbody tr th {\n",
              "        vertical-align: top;\n",
              "    }\n",
              "\n",
              "    .dataframe thead th {\n",
              "        text-align: right;\n",
              "    }\n",
              "</style>\n",
              "<table border=\"1\" class=\"dataframe\">\n",
              "  <thead>\n",
              "    <tr style=\"text-align: right;\">\n",
              "      <th></th>\n",
              "      <th>N</th>\n",
              "      <th>P</th>\n",
              "      <th>K</th>\n",
              "      <th>temperature</th>\n",
              "      <th>humidity</th>\n",
              "      <th>ph</th>\n",
              "      <th>rainfall</th>\n",
              "      <th>main_crop</th>\n",
              "      <th>comp_crop</th>\n",
              "      <th>trap_crop</th>\n",
              "    </tr>\n",
              "  </thead>\n",
              "  <tbody>\n",
              "    <tr>\n",
              "      <th>2195</th>\n",
              "      <td>107</td>\n",
              "      <td>34</td>\n",
              "      <td>32</td>\n",
              "      <td>26.774637</td>\n",
              "      <td>66.413269</td>\n",
              "      <td>6.780064</td>\n",
              "      <td>177.774507</td>\n",
              "      <td>coffee</td>\n",
              "      <td>beans</td>\n",
              "      <td>vetch</td>\n",
              "    </tr>\n",
              "    <tr>\n",
              "      <th>2196</th>\n",
              "      <td>99</td>\n",
              "      <td>15</td>\n",
              "      <td>27</td>\n",
              "      <td>27.417112</td>\n",
              "      <td>56.636362</td>\n",
              "      <td>6.086922</td>\n",
              "      <td>127.924610</td>\n",
              "      <td>coffee</td>\n",
              "      <td>beans</td>\n",
              "      <td>vetch</td>\n",
              "    </tr>\n",
              "    <tr>\n",
              "      <th>2197</th>\n",
              "      <td>118</td>\n",
              "      <td>33</td>\n",
              "      <td>30</td>\n",
              "      <td>24.131797</td>\n",
              "      <td>67.225123</td>\n",
              "      <td>6.362608</td>\n",
              "      <td>173.322839</td>\n",
              "      <td>coffee</td>\n",
              "      <td>beans</td>\n",
              "      <td>vetch</td>\n",
              "    </tr>\n",
              "    <tr>\n",
              "      <th>2198</th>\n",
              "      <td>117</td>\n",
              "      <td>32</td>\n",
              "      <td>34</td>\n",
              "      <td>26.272418</td>\n",
              "      <td>52.127394</td>\n",
              "      <td>6.758793</td>\n",
              "      <td>127.175293</td>\n",
              "      <td>coffee</td>\n",
              "      <td>beans</td>\n",
              "      <td>vetch</td>\n",
              "    </tr>\n",
              "    <tr>\n",
              "      <th>2199</th>\n",
              "      <td>104</td>\n",
              "      <td>18</td>\n",
              "      <td>30</td>\n",
              "      <td>23.603016</td>\n",
              "      <td>60.396475</td>\n",
              "      <td>6.779833</td>\n",
              "      <td>140.937041</td>\n",
              "      <td>coffee</td>\n",
              "      <td>beans</td>\n",
              "      <td>vetch</td>\n",
              "    </tr>\n",
              "  </tbody>\n",
              "</table>\n",
              "</div>\n",
              "      <button class=\"colab-df-convert\" onclick=\"convertToInteractive('df-e2a1161a-c943-477b-b6f7-19bdfb7cd64e')\"\n",
              "              title=\"Convert this dataframe to an interactive table.\"\n",
              "              style=\"display:none;\">\n",
              "        \n",
              "  <svg xmlns=\"http://www.w3.org/2000/svg\" height=\"24px\"viewBox=\"0 0 24 24\"\n",
              "       width=\"24px\">\n",
              "    <path d=\"M0 0h24v24H0V0z\" fill=\"none\"/>\n",
              "    <path d=\"M18.56 5.44l.94 2.06.94-2.06 2.06-.94-2.06-.94-.94-2.06-.94 2.06-2.06.94zm-11 1L8.5 8.5l.94-2.06 2.06-.94-2.06-.94L8.5 2.5l-.94 2.06-2.06.94zm10 10l.94 2.06.94-2.06 2.06-.94-2.06-.94-.94-2.06-.94 2.06-2.06.94z\"/><path d=\"M17.41 7.96l-1.37-1.37c-.4-.4-.92-.59-1.43-.59-.52 0-1.04.2-1.43.59L10.3 9.45l-7.72 7.72c-.78.78-.78 2.05 0 2.83L4 21.41c.39.39.9.59 1.41.59.51 0 1.02-.2 1.41-.59l7.78-7.78 2.81-2.81c.8-.78.8-2.07 0-2.86zM5.41 20L4 18.59l7.72-7.72 1.47 1.35L5.41 20z\"/>\n",
              "  </svg>\n",
              "      </button>\n",
              "      \n",
              "  <style>\n",
              "    .colab-df-container {\n",
              "      display:flex;\n",
              "      flex-wrap:wrap;\n",
              "      gap: 12px;\n",
              "    }\n",
              "\n",
              "    .colab-df-convert {\n",
              "      background-color: #E8F0FE;\n",
              "      border: none;\n",
              "      border-radius: 50%;\n",
              "      cursor: pointer;\n",
              "      display: none;\n",
              "      fill: #1967D2;\n",
              "      height: 32px;\n",
              "      padding: 0 0 0 0;\n",
              "      width: 32px;\n",
              "    }\n",
              "\n",
              "    .colab-df-convert:hover {\n",
              "      background-color: #E2EBFA;\n",
              "      box-shadow: 0px 1px 2px rgba(60, 64, 67, 0.3), 0px 1px 3px 1px rgba(60, 64, 67, 0.15);\n",
              "      fill: #174EA6;\n",
              "    }\n",
              "\n",
              "    [theme=dark] .colab-df-convert {\n",
              "      background-color: #3B4455;\n",
              "      fill: #D2E3FC;\n",
              "    }\n",
              "\n",
              "    [theme=dark] .colab-df-convert:hover {\n",
              "      background-color: #434B5C;\n",
              "      box-shadow: 0px 1px 3px 1px rgba(0, 0, 0, 0.15);\n",
              "      filter: drop-shadow(0px 1px 2px rgba(0, 0, 0, 0.3));\n",
              "      fill: #FFFFFF;\n",
              "    }\n",
              "  </style>\n",
              "\n",
              "      <script>\n",
              "        const buttonEl =\n",
              "          document.querySelector('#df-e2a1161a-c943-477b-b6f7-19bdfb7cd64e button.colab-df-convert');\n",
              "        buttonEl.style.display =\n",
              "          google.colab.kernel.accessAllowed ? 'block' : 'none';\n",
              "\n",
              "        async function convertToInteractive(key) {\n",
              "          const element = document.querySelector('#df-e2a1161a-c943-477b-b6f7-19bdfb7cd64e');\n",
              "          const dataTable =\n",
              "            await google.colab.kernel.invokeFunction('convertToInteractive',\n",
              "                                                     [key], {});\n",
              "          if (!dataTable) return;\n",
              "\n",
              "          const docLinkHtml = 'Like what you see? Visit the ' +\n",
              "            '<a target=\"_blank\" href=https://colab.research.google.com/notebooks/data_table.ipynb>data table notebook</a>'\n",
              "            + ' to learn more about interactive tables.';\n",
              "          element.innerHTML = '';\n",
              "          dataTable['output_type'] = 'display_data';\n",
              "          await google.colab.output.renderOutput(dataTable, element);\n",
              "          const docLink = document.createElement('div');\n",
              "          docLink.innerHTML = docLinkHtml;\n",
              "          element.appendChild(docLink);\n",
              "        }\n",
              "      </script>\n",
              "    </div>\n",
              "  </div>\n",
              "  "
            ]
          },
          "metadata": {},
          "execution_count": 5
        }
      ],
      "source": [
        "df.tail()"
      ]
    },
    {
      "cell_type": "code",
      "source": [
        "crop_counts = df['main_crop'].value_counts()\n",
        "plt.pie(crop_counts.values, labels=crop_counts.index, autopct='%1.1f%%',textprops={'fontsize': 8})\n",
        "plt.title('Main Crop')\n",
        "plt.show()"
      ],
      "metadata": {
        "colab": {
          "base_uri": "https://localhost:8080/",
          "height": 428
        },
        "id": "8GQ2xuClSbRF",
        "outputId": "8e535d8e-8f9d-4a16-e974-014e2bfb5284"
      },
      "execution_count": 6,
      "outputs": [
        {
          "output_type": "display_data",
          "data": {
            "text/plain": [
              "<Figure size 640x480 with 1 Axes>"
            ],
            "image/png": "[encoded data removed]"
          },
          "metadata": {}
        }
      ]
    },
    {
      "cell_type": "code",
      "source": [
        "crop_counts1 = df['comp_crop'].value_counts()\n",
        "plt.pie(crop_counts1.values, labels=crop_counts1.index, autopct='%1.1f%%',textprops={'fontsize': 8})\n",
        "plt.title('Companion Crop')\n",
        "plt.show()"
      ],
      "metadata": {
        "colab": {
          "base_uri": "https://localhost:8080/",
          "height": 428
        },
        "id": "b-iQUumTvz4y",
        "outputId": "9a9f2cda-cc44-4125-c498-47f0764ebc83"
      },
      "execution_count": 7,
      "outputs": [
        {
          "output_type": "display_data",
          "data": {
            "text/plain": [
              "<Figure size 640x480 with 1 Axes>"
            ],
            "image/png": "[encoded data removed]"
          },
          "metadata": {}
        }
      ]
    },
    {
      "cell_type": "code",
      "source": [
        "crop_counts2 = df['trap_crop'].value_counts()\n",
        "plt.pie(crop_counts2.values, labels=crop_counts2.index, autopct='%1.1f%%',textprops={'fontsize': 8})\n",
        "plt.title('Trap Crop')\n",
        "plt.show()"
      ],
      "metadata": {
        "colab": {
          "base_uri": "https://localhost:8080/",
          "height": 428
        },
        "id": "dY7CRisEv0KV",
        "outputId": "a21d1d79-093c-4924-eb5b-9f95eba73cf6"
      },
      "execution_count": 8,
      "outputs": [
        {
          "output_type": "display_data",
          "data": {
            "text/plain": [
              "<Figure size 640x480 with 1 Axes>"
            ],
            "image/png": "[encoded data removed]"
          },
          "metadata": {}
        }
      ]
    },
    {
      "cell_type": "code",
      "source": [
        "\n",
        "\n",
        "\n",
        "crop_counts1 = df['comp_crop'].value_counts()\n",
        "crop_counts2 = df['trap_crop'].value_counts()\n",
        "\n",
        "# Create a figure with two axes side by side\n",
        "fig, axs = plt.subplots(1, 2, figsize=(10, 5))\n",
        "\n",
        "# Plot the first pie chart on the left axis\n",
        "axs[0].pie(crop_counts1, labels=crop_counts1.index, autopct='%1.1f%%',textprops={'fontsize': 6})\n",
        "axs[0].set_title('Companion Crop')\n",
        "\n",
        "# Plot the second pie chart on the right axis\n",
        "axs[1].pie(crop_counts2, labels=crop_counts2.index, autopct='%1.1f%%',textprops={'fontsize': 6})\n",
        "axs[1].set_title('Trap Crop')\n",
        "\n",
        "# Display the chart\n",
        "plt.subplots_adjust(wspace=0.5)\n",
        "plt.show()"
      ],
      "metadata": {
        "colab": {
          "base_uri": "https://localhost:8080/",
          "height": 369
        },
        "id": "RHyADQ38URej",
        "outputId": "da93e5bc-debe-4ac6-d9d0-d242e9b7a25b"
      },
      "execution_count": 9,
      "outputs": [
        {
          "output_type": "display_data",
          "data": {
            "text/plain": [
              "<Figure size 1000x500 with 2 Axes>"
            ],
            "image/png": "[encoded data removed]"
          },
          "metadata": {}
        }
      ]
    },
    {
      "cell_type": "code",
      "execution_count": 10,
      "metadata": {
        "colab": {
          "base_uri": "https://localhost:8080/"
        },
        "id": "3uf61BTga8Xu",
        "outputId": "25c3c9de-1111-4353-f759-f8998438fe62"
      },
      "outputs": [
        {
          "output_type": "execute_result",
          "data": {
            "text/plain": [
              "22000"
            ]
          },
          "metadata": {},
          "execution_count": 10
        }
      ],
      "source": [
        "df.size"
      ]
    },
    {
      "cell_type": "code",
      "execution_count": 11,
      "metadata": {
        "colab": {
          "base_uri": "https://localhost:8080/"
        },
        "id": "7p8a9KrZa8Xu",
        "outputId": "48600421-f255-4e4c-f211-fd3023a6218b"
      },
      "outputs": [
        {
          "output_type": "execute_result",
          "data": {
            "text/plain": [
              "(2200, 10)"
            ]
          },
          "metadata": {},
          "execution_count": 11
        }
      ],
      "source": [
        "df.shape"
      ]
    },
    {
      "cell_type": "code",
      "execution_count": 12,
      "metadata": {
        "colab": {
          "base_uri": "https://localhost:8080/"
        },
        "id": "L8dUehY5a8Xv",
        "outputId": "28a30364-ef6b-48b4-f3e1-93d4dc66dfae"
      },
      "outputs": [
        {
          "output_type": "execute_result",
          "data": {
            "text/plain": [
              "Index(['N', 'P', 'K', 'temperature', 'humidity', 'ph', 'rainfall', 'main_crop',\n",
              "       'comp_crop', 'trap_crop'],\n",
              "      dtype='object')"
            ]
          },
          "metadata": {},
          "execution_count": 12
        }
      ],
      "source": [
        "df.columns"
      ]
    },
    {
      "cell_type": "code",
      "execution_count": 13,
      "metadata": {
        "colab": {
          "base_uri": "https://localhost:8080/"
        },
        "id": "2K2Nf8pna8Xv",
        "outputId": "1f1d233e-a736-4ca1-dd96-96e5b89c4f05"
      },
      "outputs": [
        {
          "output_type": "execute_result",
          "data": {
            "text/plain": [
              "array(['rice', 'maize', 'chickpea', 'kidneybeans', 'pigeonpeas',\n",
              "       'mothbeans', 'mungbean', 'blackgram', 'lentil', 'pomegranate',\n",
              "       'banana', 'mango', 'grapes', 'watermelon', 'muskmelon', 'apple',\n",
              "       'orange', 'papaya', 'coconut', 'cotton', 'jute', 'coffee'],\n",
              "      dtype=object)"
            ]
          },
          "metadata": {},
          "execution_count": 13
        }
      ],
      "source": [
        "df['main_crop'].unique()"
      ]
    },
    {
      "cell_type": "code",
      "source": [
        "df['comp_crop'].unique()"
      ],
      "metadata": {
        "colab": {
          "base_uri": "https://localhost:8080/"
        },
        "id": "mvjEXtC4Yc_V",
        "outputId": "6239e166-2e83-4ada-8db9-e442051efcbe"
      },
      "execution_count": 14,
      "outputs": [
        {
          "output_type": "execute_result",
          "data": {
            "text/plain": [
              "array(['Duckweed', 'Marigold', 'Corn', 'Carrots', 'Beans', 'Rosemary',\n",
              "       'cabbage', 'cucumbers', 'Coriander', 'Sweet Potatoes', 'ginger',\n",
              "       'berries', 'buckwheat', 'pumpkin', 'lavender', 'Dill', 'banana',\n",
              "       'turmeri', 'Alfalfa', 'carrots', 'beans'], dtype=object)"
            ]
          },
          "metadata": {},
          "execution_count": 14
        }
      ]
    },
    {
      "cell_type": "code",
      "source": [
        "df['trap_crop'].unique()"
      ],
      "metadata": {
        "colab": {
          "base_uri": "https://localhost:8080/"
        },
        "id": "pd0S--diYdMy",
        "outputId": "2e628204-e98b-4c26-c667-fe1eb519dd75"
      },
      "execution_count": 15,
      "outputs": [
        {
          "output_type": "execute_result",
          "data": {
            "text/plain": [
              "array(['Pusa Basmati', 'sorghum', 'Desmodium', 'Sesbania', 'Pearl Millet',\n",
              "       'Rye', 'castor', 'Marigold', 'Mustard', 'Dill Plant', 'Sunflower',\n",
              "       'Amarnath', 'sweet clover', 'Millet', 'Zinnia', 'Tobacco',\n",
              "       'Parsley', 'vetch'], dtype=object)"
            ]
          },
          "metadata": {},
          "execution_count": 15
        }
      ]
    },
    {
      "cell_type": "code",
      "source": [
        "df['main_crop'] = df['main_crop'].astype('string')\n",
        "df['comp_crop'] = df['comp_crop'].astype('string')\n",
        "df['trap_crop'] = df['trap_crop'].astype('string')"
      ],
      "metadata": {
        "id": "ZXcAgPGf4GcI"
      },
      "execution_count": 16,
      "outputs": []
    },
    {
      "cell_type": "code",
      "execution_count": 17,
      "metadata": {
        "colab": {
          "base_uri": "https://localhost:8080/"
        },
        "id": "wW_g7a8Aa8Xw",
        "outputId": "60f3c82b-3901-47b2-8bae-f5a0b1855f6e"
      },
      "outputs": [
        {
          "output_type": "execute_result",
          "data": {
            "text/plain": [
              "N                int64\n",
              "P                int64\n",
              "K                int64\n",
              "temperature    float64\n",
              "humidity       float64\n",
              "ph             float64\n",
              "rainfall       float64\n",
              "main_crop       string\n",
              "comp_crop       string\n",
              "trap_crop       string\n",
              "dtype: object"
            ]
          },
          "metadata": {},
          "execution_count": 17
        }
      ],
      "source": [
        "df.dtypes"
      ]
    },
    {
      "cell_type": "code",
      "execution_count": 18,
      "metadata": {
        "colab": {
          "base_uri": "https://localhost:8080/"
        },
        "id": "UKeOlXc3a8Xw",
        "outputId": "f53a8658-0bac-46e2-9eed-ebc5e89658bd"
      },
      "outputs": [
        {
          "output_type": "execute_result",
          "data": {
            "text/plain": [
              "rice           100\n",
              "maize          100\n",
              "chickpea       100\n",
              "kidneybeans    100\n",
              "pigeonpeas     100\n",
              "mothbeans      100\n",
              "mungbean       100\n",
              "blackgram      100\n",
              "lentil         100\n",
              "pomegranate    100\n",
              "banana         100\n",
              "mango          100\n",
              "grapes         100\n",
              "watermelon     100\n",
              "muskmelon      100\n",
              "apple          100\n",
              "orange         100\n",
              "papaya         100\n",
              "coconut        100\n",
              "cotton         100\n",
              "jute           100\n",
              "coffee         100\n",
              "Name: main_crop, dtype: Int64"
            ]
          },
          "metadata": {},
          "execution_count": 18
        }
      ],
      "source": [
        "df['main_crop'].value_counts()\n"
      ]
    },
    {
      "cell_type": "code",
      "source": [
        "df['comp_crop'].value_counts()\n"
      ],
      "metadata": {
        "colab": {
          "base_uri": "https://localhost:8080/"
        },
        "id": "ZnByQ8hPYvf4",
        "outputId": "f999ebf2-59bc-493b-b88a-d841c604264e"
      },
      "execution_count": 19,
      "outputs": [
        {
          "output_type": "execute_result",
          "data": {
            "text/plain": [
              "Marigold          200\n",
              "ginger            100\n",
              "Corn              100\n",
              "Carrots           100\n",
              "Beans             100\n",
              "Rosemary          100\n",
              "cabbage           100\n",
              "cucumbers         100\n",
              "Coriander         100\n",
              "Sweet Potatoes    100\n",
              "buckwheat         100\n",
              "Duckweed          100\n",
              "pumpkin           100\n",
              "lavender          100\n",
              "Dill              100\n",
              "banana            100\n",
              "turmeri           100\n",
              "Alfalfa           100\n",
              "carrots           100\n",
              "berries           100\n",
              "beans             100\n",
              "Name: comp_crop, dtype: Int64"
            ]
          },
          "metadata": {},
          "execution_count": 19
        }
      ]
    },
    {
      "cell_type": "code",
      "source": [
        "df['trap_crop'].value_counts()"
      ],
      "metadata": {
        "colab": {
          "base_uri": "https://localhost:8080/"
        },
        "id": "QBuzAvsdYxg0",
        "outputId": "6d21afa2-6e98-4be3-9a2f-f4f4c03e8cef"
      },
      "execution_count": 20,
      "outputs": [
        {
          "output_type": "execute_result",
          "data": {
            "text/plain": [
              "Sesbania        200\n",
              "Marigold        200\n",
              "Mustard         200\n",
              "Millet          200\n",
              "Sunflower       100\n",
              "Desmodium       100\n",
              "Pearl Millet    100\n",
              "Rye             100\n",
              "castor          100\n",
              "sorghum         100\n",
              "sweet clover    100\n",
              "Dill Plant      100\n",
              "Zinnia          100\n",
              "Tobacco         100\n",
              "Parsley         100\n",
              "Amarnath        100\n",
              "Pusa Basmati    100\n",
              "vetch           100\n",
              "Name: trap_crop, dtype: Int64"
            ]
          },
          "metadata": {},
          "execution_count": 20
        }
      ]
    },
    {
      "cell_type": "code",
      "execution_count": 21,
      "metadata": {
        "colab": {
          "base_uri": "https://localhost:8080/",
          "height": 527
        },
        "id": "NIIoaAu1a8Xx",
        "outputId": "3e5ccd8f-4e8c-446b-c4c5-a719695724c1"
      },
      "outputs": [
        {
          "output_type": "execute_result",
          "data": {
            "text/plain": [
              "<Axes: >"
            ]
          },
          "metadata": {},
          "execution_count": 21
        },
        {
          "output_type": "display_data",
          "data": {
            "text/plain": [
              "<Figure size 640x480 with 2 Axes>"
            ],
            "image/png": "[encoded data removed]"
          },
          "metadata": {}
        }
      ],
      "source": [
        "sns.heatmap(df.corr(),annot=True)"
      ]
    },
    {
      "cell_type": "markdown",
      "metadata": {
        "id": "vllybJ88a8Xx"
      },
      "source": [
        "### Seperating features and target label"
      ]
    },
    {
      "cell_type": "code",
      "source": [
        "from sklearn.preprocessing import LabelEncoder\n",
        "le = LabelEncoder()\n",
        "# df['main_crop'] = le.fit_transform(df['main_crop'])\n",
        "\n",
        "# fit and transform the 'main_crop' column\n",
        "df['main_crop_encoded'] = le.fit_transform(df['main_crop'])\n",
        "\n",
        "# get the mapping of the integer codes to the original string values\n",
        "crop_mapping = dict(zip(le.transform(le.classes_), le.classes_))\n",
        "\n",
        "# apply inverse_transform() to get back the original string values\n",
        "df['main_crop'] = df['main_crop_encoded'].apply(lambda x: crop_mapping[x])"
      ],
      "metadata": {
        "id": "233Ekshk3Zgz"
      },
      "execution_count": 22,
      "outputs": []
    },
    {
      "cell_type": "code",
      "execution_count": 23,
      "metadata": {
        "id": "lw3kWQr9a8Xz"
      },
      "outputs": [],
      "source": [
        "features = df[['N', 'P','K','temperature', 'humidity', 'ph', 'rainfall']]\n",
        "features2 = df[['N', 'P','K','temperature', 'humidity', 'ph', 'rainfall','main_crop_encoded']]\n",
        "target = df['main_crop']\n",
        "target1 = df['comp_crop']\n",
        "target2 = df['trap_crop']\n",
        "labels = df['main_crop']"
      ]
    },
    {
      "cell_type": "code",
      "execution_count": 24,
      "metadata": {
        "id": "LdNEGPINa8Xz"
      },
      "outputs": [],
      "source": [
        "# Initialzing empty lists to append all model's name and corresponding name\n",
        "acc = []\n",
        "model = []\n",
        "model1 = []\n",
        "model2 = []"
      ]
    },
    {
      "cell_type": "code",
      "execution_count": 25,
      "metadata": {
        "id": "nPEm9nHLa8X0"
      },
      "outputs": [],
      "source": [
        "# Splitting into train and test data \n",
        "\n",
        "from sklearn.model_selection import train_test_split\n",
        "Xtrain, Xtest, Ytrain, Ytest = train_test_split(features,target,test_size = 0.8,random_state =4)"
      ]
    },
    {
      "cell_type": "code",
      "source": [
        "# Splitting into train and test data comp_crops\n",
        "\n",
        "from sklearn.model_selection import train_test_split\n",
        "Xtrain1, Xtest1, Ytrain1, Ytest1 = train_test_split(features2,target1,test_size = 0.8,random_state =4)"
      ],
      "metadata": {
        "id": "0MOgo5fuj89I"
      },
      "execution_count": 26,
      "outputs": []
    },
    {
      "cell_type": "code",
      "source": [
        "# Splitting into train and test data comp_crops\n",
        "\n",
        "from sklearn.model_selection import train_test_split\n",
        "Xtrain2, Xtest2, Ytrain2, Ytest2 = train_test_split(features2,target2,test_size = 0.8,random_state =4)"
      ],
      "metadata": {
        "id": "x7dHFWb0PKpI"
      },
      "execution_count": 27,
      "outputs": []
    },
    {
      "cell_type": "markdown",
      "metadata": {
        "id": "DMs1L2fla8X0"
      },
      "source": [
        "# Decision Tree"
      ]
    },
    {
      "cell_type": "code",
      "execution_count": 28,
      "metadata": {
        "colab": {
          "base_uri": "https://localhost:8080/"
        },
        "id": "e4MEqsGGa8X0",
        "outputId": "3deca1bc-a6a8-4cc4-bc2f-5245bf0d6c29"
      },
      "outputs": [
        {
          "output_type": "stream",
          "name": "stdout",
          "text": [
            "DecisionTrees's Accuracy is:  84.60227272727273\n",
            "              precision    recall  f1-score   support\n",
            "\n",
            "       apple       1.00      1.00      1.00        77\n",
            "      banana       0.99      1.00      0.99        72\n",
            "   blackgram       0.60      0.99      0.75        76\n",
            "    chickpea       1.00      0.98      0.99        86\n",
            "     coconut       0.99      1.00      0.99        73\n",
            "      coffee       0.99      0.89      0.94        76\n",
            "      cotton       0.82      1.00      0.90        80\n",
            "      grapes       1.00      1.00      1.00        80\n",
            "        jute       0.63      0.85      0.73        81\n",
            " kidneybeans       0.44      0.77      0.56        84\n",
            "      lentil       0.63      1.00      0.77        82\n",
            "       maize       0.89      0.99      0.94        77\n",
            "       mango       1.00      1.00      1.00        83\n",
            "   mothbeans       0.00      0.00      0.00        78\n",
            "    mungbean       0.96      0.93      0.94        81\n",
            "   muskmelon       0.99      1.00      0.99        80\n",
            "      orange       0.93      1.00      0.96        81\n",
            "      papaya       1.00      0.65      0.79        82\n",
            "  pigeonpeas       0.00      0.00      0.00        84\n",
            " pomegranate       0.91      0.96      0.94        85\n",
            "        rice       0.95      0.68      0.79        84\n",
            "  watermelon       1.00      0.99      0.99        78\n",
            "\n",
            "    accuracy                           0.85      1760\n",
            "   macro avg       0.81      0.85      0.82      1760\n",
            "weighted avg       0.80      0.85      0.81      1760\n",
            "\n"
          ]
        }
      ],
      "source": [
        "from sklearn.tree import DecisionTreeClassifier\n",
        "\n",
        "DecisionTree = DecisionTreeClassifier(criterion=\"entropy\",random_state=2,max_depth=5)\n",
        "\n",
        "DecisionTree.fit(Xtrain,Ytrain)\n",
        "\n",
        "predicted_values = DecisionTree.predict(Xtest)\n",
        "x = metrics.accuracy_score(Ytest, predicted_values)\n",
        "acc.append(x)\n",
        "model.append('DT-MC')\n",
        "print(\"DecisionTrees's Accuracy is: \", x*100)\n",
        "\n",
        "print(classification_report(Ytest,predicted_values))"
      ]
    },
    {
      "cell_type": "code",
      "source": [
        "from sklearn.tree import DecisionTreeClassifier\n",
        "\n",
        "DecisionTree1 = DecisionTreeClassifier(criterion=\"entropy\",random_state=2,max_depth=5)\n",
        "\n",
        "DecisionTree1.fit(Xtrain1,Ytrain1)\n",
        "\n",
        "predicted_values = DecisionTree1.predict(Xtest1)\n",
        "x = metrics.accuracy_score(Ytest1, predicted_values)\n",
        "acc.append(x)\n",
        "model.append('DT-CC')\n",
        "print(\"DecisionTrees's Accuracy is: \", x*100)\n",
        "\n",
        "print(classification_report(Ytest1,predicted_values))"
      ],
      "metadata": {
        "colab": {
          "base_uri": "https://localhost:8080/"
        },
        "id": "6g5I1_1TQgxP",
        "outputId": "ecb03ec9-5190-44da-f817-964c4ac09f30"
      },
      "execution_count": 29,
      "outputs": [
        {
          "output_type": "stream",
          "name": "stdout",
          "text": [
            "DecisionTrees's Accuracy is:  93.69318181818181\n",
            "                precision    recall  f1-score   support\n",
            "\n",
            "       Alfalfa       0.94      1.00      0.97        80\n",
            "         Beans       1.00      1.00      1.00        84\n",
            "       Carrots       0.00      0.00      0.00        84\n",
            "     Coriander       1.00      1.00      1.00        85\n",
            "          Corn       1.00      0.98      0.99        86\n",
            "          Dill       1.00      1.00      1.00        81\n",
            "      Duckweed       1.00      1.00      1.00        84\n",
            "      Marigold       0.62      0.99      0.77       153\n",
            "      Rosemary       1.00      1.00      1.00        78\n",
            "Sweet Potatoes       1.00      1.00      1.00        72\n",
            "        banana       1.00      1.00      1.00        82\n",
            "         beans       0.85      0.89      0.87        76\n",
            "       berries       1.00      1.00      1.00        80\n",
            "     buckwheat       1.00      1.00      1.00        78\n",
            "       cabbage       1.00      1.00      1.00        81\n",
            "       carrots       0.97      0.85      0.91        81\n",
            "     cucumbers       1.00      1.00      1.00        82\n",
            "        ginger       1.00      1.00      1.00        83\n",
            "      lavender       1.00      1.00      1.00        77\n",
            "       pumpkin       1.00      1.00      1.00        80\n",
            "       turmeri       1.00      0.95      0.97        73\n",
            "\n",
            "      accuracy                           0.94      1760\n",
            "     macro avg       0.92      0.94      0.93      1760\n",
            "  weighted avg       0.91      0.94      0.92      1760\n",
            "\n"
          ]
        }
      ]
    },
    {
      "cell_type": "code",
      "source": [
        "from sklearn.tree import DecisionTreeClassifier\n",
        "\n",
        "DecisionTree2 = DecisionTreeClassifier(criterion=\"entropy\",random_state=2,max_depth=5)\n",
        "\n",
        "DecisionTree2.fit(Xtrain2,Ytrain2)\n",
        "\n",
        "predicted_values = DecisionTree2.predict(Xtest2)\n",
        "x = metrics.accuracy_score(Ytest2, predicted_values)\n",
        "acc.append(x)\n",
        "model.append('DT-TC')\n",
        "print(\"DecisionTrees's Accuracy is: \", x*100)\n",
        "\n",
        "print(classification_report(Ytest2,predicted_values))"
      ],
      "metadata": {
        "colab": {
          "base_uri": "https://localhost:8080/"
        },
        "id": "LVJiDn43QgH5",
        "outputId": "67208146-ff96-4e57-8649-c0d8574feee8"
      },
      "execution_count": 30,
      "outputs": [
        {
          "output_type": "stream",
          "name": "stdout",
          "text": [
            "DecisionTrees's Accuracy is:  89.88636363636363\n",
            "              precision    recall  f1-score   support\n",
            "\n",
            "    Amarnath       0.96      1.00      0.98        78\n",
            "   Desmodium       1.00      0.98      0.99        86\n",
            "  Dill Plant       0.97      1.00      0.99        72\n",
            "    Marigold       0.55      0.60      0.57       159\n",
            "      Millet       1.00      0.93      0.97       163\n",
            "     Mustard       1.00      1.00      1.00       168\n",
            "     Parsley       1.00      0.85      0.92        81\n",
            "Pearl Millet       1.00      1.00      1.00        84\n",
            "Pusa Basmati       0.99      1.00      0.99        84\n",
            "         Rye       1.00      1.00      1.00        78\n",
            "    Sesbania       0.96      1.00      0.98       165\n",
            "   Sunflower       0.00      0.00      0.00        80\n",
            "     Tobacco       0.90      1.00      0.95        80\n",
            "      Zinnia       1.00      1.00      1.00        73\n",
            "      castor       0.54      0.99      0.70        76\n",
            "     sorghum       1.00      0.99      0.99        77\n",
            "sweet clover       0.99      1.00      0.99        80\n",
            "       vetch       0.85      0.89      0.87        76\n",
            "\n",
            "    accuracy                           0.90      1760\n",
            "   macro avg       0.87      0.90      0.88      1760\n",
            "weighted avg       0.88      0.90      0.88      1760\n",
            "\n"
          ]
        }
      ]
    },
    {
      "cell_type": "code",
      "execution_count": 31,
      "metadata": {
        "id": "_vL-82Csa8X1"
      },
      "outputs": [],
      "source": [
        "from sklearn.model_selection import cross_val_score"
      ]
    },
    {
      "cell_type": "code",
      "execution_count": 32,
      "metadata": {
        "id": "8ONc0416a8X1"
      },
      "outputs": [],
      "source": [
        "# Cross validation score (Decision Tree)\n",
        "score = cross_val_score(DecisionTree, features, target,cv=5)"
      ]
    },
    {
      "cell_type": "code",
      "execution_count": 33,
      "metadata": {
        "colab": {
          "base_uri": "https://localhost:8080/"
        },
        "id": "W56N7msaa8X1",
        "outputId": "7d00ee6f-82bc-4967-ce88-4829bc6e5cc5"
      },
      "outputs": [
        {
          "output_type": "execute_result",
          "data": {
            "text/plain": [
              "array([0.93636364, 0.90909091, 0.91818182, 0.87045455, 0.93636364])"
            ]
          },
          "metadata": {},
          "execution_count": 33
        }
      ],
      "source": [
        "score"
      ]
    },
    {
      "cell_type": "markdown",
      "metadata": {
        "id": "eww1ItBoa8X1"
      },
      "source": [
        "### Saving trained Decision Tree model"
      ]
    },
    {
      "cell_type": "code",
      "execution_count": 34,
      "metadata": {
        "id": "cO2gynfja8X2"
      },
      "outputs": [],
      "source": [
        "import pickle\n",
        "# Dump the trained Naive Bayes classifier with Pickle\n",
        "DT_pkl_filename = 'DecisionTree.pkl'\n",
        "# Open the file to save as pkl file\n",
        "DT_Model_pkl = open(DT_pkl_filename, 'wb')\n",
        "pickle.dump(DecisionTree, DT_Model_pkl)\n",
        "# Close the pickle instances\n",
        "DT_Model_pkl.close()"
      ]
    },
    {
      "cell_type": "markdown",
      "metadata": {
        "id": "I5rGqNJIa8X2"
      },
      "source": [
        "# Guassian Naive Bayes"
      ]
    },
    {
      "cell_type": "code",
      "execution_count": 35,
      "metadata": {
        "colab": {
          "base_uri": "https://localhost:8080/"
        },
        "id": "eNGXhUfha8X2",
        "outputId": "c7736212-6ae1-46b3-91ad-d7cb1966ca07"
      },
      "outputs": [
        {
          "output_type": "stream",
          "name": "stdout",
          "text": [
            "Naive Bayes's Accuracy is:  0.9903409090909091\n",
            "              precision    recall  f1-score   support\n",
            "\n",
            "       apple       1.00      1.00      1.00        77\n",
            "      banana       1.00      1.00      1.00        72\n",
            "   blackgram       1.00      1.00      1.00        76\n",
            "    chickpea       1.00      1.00      1.00        86\n",
            "     coconut       1.00      1.00      1.00        73\n",
            "      coffee       0.99      1.00      0.99        76\n",
            "      cotton       0.99      1.00      0.99        80\n",
            "      grapes       1.00      1.00      1.00        80\n",
            "        jute       0.86      0.98      0.91        81\n",
            " kidneybeans       1.00      1.00      1.00        84\n",
            "      lentil       1.00      0.99      0.99        82\n",
            "       maize       1.00      0.99      0.99        77\n",
            "       mango       1.00      1.00      1.00        83\n",
            "   mothbeans       0.99      1.00      0.99        78\n",
            "    mungbean       1.00      1.00      1.00        81\n",
            "   muskmelon       1.00      1.00      1.00        80\n",
            "      orange       1.00      1.00      1.00        81\n",
            "      papaya       1.00      1.00      1.00        82\n",
            "  pigeonpeas       1.00      1.00      1.00        84\n",
            " pomegranate       1.00      1.00      1.00        85\n",
            "        rice       0.99      0.85      0.91        84\n",
            "  watermelon       1.00      1.00      1.00        78\n",
            "\n",
            "    accuracy                           0.99      1760\n",
            "   macro avg       0.99      0.99      0.99      1760\n",
            "weighted avg       0.99      0.99      0.99      1760\n",
            "\n"
          ]
        }
      ],
      "source": [
        "from sklearn.naive_bayes import GaussianNB\n",
        "\n",
        "NaiveBayes = GaussianNB()\n",
        "\n",
        "NaiveBayes.fit(Xtrain,Ytrain)\n",
        "\n",
        "predicted_values = NaiveBayes.predict(Xtest)\n",
        "x = metrics.accuracy_score(Ytest, predicted_values)\n",
        "acc.append(x)\n",
        "model.append('NB-MC')\n",
        "print(\"Naive Bayes's Accuracy is: \", x)\n",
        "\n",
        "print(classification_report(Ytest,predicted_values))"
      ]
    },
    {
      "cell_type": "code",
      "source": [
        "from sklearn.naive_bayes import GaussianNB\n",
        "\n",
        "NaiveBayes2 = GaussianNB()\n",
        "\n",
        "NaiveBayes2.fit(Xtrain1,Ytrain1)\n",
        "\n",
        "predicted_values = NaiveBayes2.predict(Xtest1)\n",
        "x = metrics.accuracy_score(Ytest1, predicted_values)\n",
        "acc.append(x)\n",
        "model.append('NB-CC')\n",
        "print(\"Naive Bayes's Accuracy is: \", x)\n",
        "\n",
        "print(classification_report(Ytest1,predicted_values))"
      ],
      "metadata": {
        "colab": {
          "base_uri": "https://localhost:8080/"
        },
        "id": "GpcnhGdq8tjg",
        "outputId": "0afbad4f-8d1e-4739-e8da-3eb521f6937b"
      },
      "execution_count": 36,
      "outputs": [
        {
          "output_type": "stream",
          "name": "stdout",
          "text": [
            "Naive Bayes's Accuracy is:  1.0\n",
            "                precision    recall  f1-score   support\n",
            "\n",
            "       Alfalfa       1.00      1.00      1.00        80\n",
            "         Beans       1.00      1.00      1.00        84\n",
            "       Carrots       1.00      1.00      1.00        84\n",
            "     Coriander       1.00      1.00      1.00        85\n",
            "          Corn       1.00      1.00      1.00        86\n",
            "          Dill       1.00      1.00      1.00        81\n",
            "      Duckweed       1.00      1.00      1.00        84\n",
            "      Marigold       1.00      1.00      1.00       153\n",
            "      Rosemary       1.00      1.00      1.00        78\n",
            "Sweet Potatoes       1.00      1.00      1.00        72\n",
            "        banana       1.00      1.00      1.00        82\n",
            "         beans       1.00      1.00      1.00        76\n",
            "       berries       1.00      1.00      1.00        80\n",
            "     buckwheat       1.00      1.00      1.00        78\n",
            "       cabbage       1.00      1.00      1.00        81\n",
            "       carrots       1.00      1.00      1.00        81\n",
            "     cucumbers       1.00      1.00      1.00        82\n",
            "        ginger       1.00      1.00      1.00        83\n",
            "      lavender       1.00      1.00      1.00        77\n",
            "       pumpkin       1.00      1.00      1.00        80\n",
            "       turmeri       1.00      1.00      1.00        73\n",
            "\n",
            "      accuracy                           1.00      1760\n",
            "     macro avg       1.00      1.00      1.00      1760\n",
            "  weighted avg       1.00      1.00      1.00      1760\n",
            "\n"
          ]
        }
      ]
    },
    {
      "cell_type": "code",
      "source": [
        "from sklearn.naive_bayes import GaussianNB\n",
        "\n",
        "NaiveBayes3 = GaussianNB()\n",
        "\n",
        "NaiveBayes3.fit(Xtrain2,Ytrain2)\n",
        "\n",
        "predicted_values = NaiveBayes3.predict(Xtest2)\n",
        "x = metrics.accuracy_score(Ytest2, predicted_values)\n",
        "acc.append(x)\n",
        "model.append('NB-TC')\n",
        "print(\"Naive Bayes's Accuracy is: \", x)\n",
        "\n",
        "print(classification_report(Ytest2,predicted_values))"
      ],
      "metadata": {
        "colab": {
          "base_uri": "https://localhost:8080/"
        },
        "id": "Q1Lw-XKl83lQ",
        "outputId": "2bd45a21-52a7-4af3-ec8b-2136a54bd490"
      },
      "execution_count": 37,
      "outputs": [
        {
          "output_type": "stream",
          "name": "stdout",
          "text": [
            "Naive Bayes's Accuracy is:  0.9534090909090909\n",
            "              precision    recall  f1-score   support\n",
            "\n",
            "    Amarnath       1.00      1.00      1.00        78\n",
            "   Desmodium       1.00      1.00      1.00        86\n",
            "  Dill Plant       1.00      1.00      1.00        72\n",
            "    Marigold       1.00      0.48      0.65       159\n",
            "      Millet       1.00      1.00      1.00       163\n",
            "     Mustard       1.00      1.00      1.00       168\n",
            "     Parsley       1.00      1.00      1.00        81\n",
            "Pearl Millet       1.00      1.00      1.00        84\n",
            "Pusa Basmati       1.00      1.00      1.00        84\n",
            "         Rye       1.00      1.00      1.00        78\n",
            "    Sesbania       0.67      1.00      0.80       165\n",
            "   Sunflower       1.00      1.00      1.00        80\n",
            "     Tobacco       1.00      1.00      1.00        80\n",
            "      Zinnia       1.00      1.00      1.00        73\n",
            "      castor       1.00      1.00      1.00        76\n",
            "     sorghum       1.00      1.00      1.00        77\n",
            "sweet clover       1.00      1.00      1.00        80\n",
            "       vetch       1.00      1.00      1.00        76\n",
            "\n",
            "    accuracy                           0.95      1760\n",
            "   macro avg       0.98      0.97      0.97      1760\n",
            "weighted avg       0.97      0.95      0.95      1760\n",
            "\n"
          ]
        }
      ]
    },
    {
      "cell_type": "code",
      "execution_count": 38,
      "metadata": {
        "colab": {
          "base_uri": "https://localhost:8080/"
        },
        "id": "kYddegbXa8X2",
        "outputId": "a20e15c8-4d62-426e-b536-5d8a39c417c5"
      },
      "outputs": [
        {
          "output_type": "execute_result",
          "data": {
            "text/plain": [
              "array([0.99772727, 0.99545455, 0.99545455, 0.99545455, 0.99090909])"
            ]
          },
          "metadata": {},
          "execution_count": 38
        }
      ],
      "source": [
        "# Cross validation score (NaiveBayes)\n",
        "score = cross_val_score(NaiveBayes,features,target,cv=5)\n",
        "score"
      ]
    },
    {
      "cell_type": "code",
      "source": [
        "# Cross validation score (NaiveBayes)\n",
        "score = cross_val_score(NaiveBayes2,features,target,cv=5)\n",
        "score"
      ],
      "metadata": {
        "colab": {
          "base_uri": "https://localhost:8080/"
        },
        "id": "psncWIgX9Yxg",
        "outputId": "d3040f64-13d3-4cef-b765-68edab140f43"
      },
      "execution_count": 39,
      "outputs": [
        {
          "output_type": "execute_result",
          "data": {
            "text/plain": [
              "array([0.99772727, 0.99545455, 0.99545455, 0.99545455, 0.99090909])"
            ]
          },
          "metadata": {},
          "execution_count": 39
        }
      ]
    },
    {
      "cell_type": "code",
      "source": [
        "# Cross validation score (NaiveBayes)\n",
        "score = cross_val_score(NaiveBayes3,features,target,cv=5)\n",
        "score"
      ],
      "metadata": {
        "colab": {
          "base_uri": "https://localhost:8080/"
        },
        "id": "3_JEgHCH9Zrv",
        "outputId": "6634a724-302a-4cb3-e96d-bbaf1f48c36a"
      },
      "execution_count": 40,
      "outputs": [
        {
          "output_type": "execute_result",
          "data": {
            "text/plain": [
              "array([0.99772727, 0.99545455, 0.99545455, 0.99545455, 0.99090909])"
            ]
          },
          "metadata": {},
          "execution_count": 40
        }
      ]
    },
    {
      "cell_type": "markdown",
      "metadata": {
        "id": "rDz13M9Wa8X2"
      },
      "source": [
        "### Saving trained Guassian Naive Bayes model"
      ]
    },
    {
      "cell_type": "code",
      "execution_count": 41,
      "metadata": {
        "id": "qqpHMFm3a8X2"
      },
      "outputs": [],
      "source": [
        "import pickle\n",
        "# Dump the trained Naive Bayes classifier with Pickle\n",
        "NB_pkl_filename = 'NBClassifier.pkl'\n",
        "# Open the file to save as pkl file\n",
        "NB_Model_pkl = open(NB_pkl_filename, 'wb')\n",
        "pickle.dump(NaiveBayes, NB_Model_pkl)\n",
        "# Close the pickle instances\n",
        "NB_Model_pkl.close()"
      ]
    },
    {
      "cell_type": "markdown",
      "metadata": {
        "id": "Dt20_mQca8X2"
      },
      "source": [
        "# Support Vector Machine (SVM)"
      ]
    },
    {
      "cell_type": "code",
      "execution_count": 42,
      "metadata": {
        "colab": {
          "base_uri": "https://localhost:8080/"
        },
        "id": "8xDehYTia8X2",
        "outputId": "786e1c97-f114-4536-c7c7-9c1104b3da51"
      },
      "outputs": [
        {
          "output_type": "stream",
          "name": "stdout",
          "text": [
            "SVM's Accuracy is:  0.9732954545454545\n",
            "              precision    recall  f1-score   support\n",
            "\n",
            "       apple       1.00      1.00      1.00        77\n",
            "      banana       1.00      1.00      1.00        72\n",
            "   blackgram       0.95      1.00      0.97        76\n",
            "    chickpea       1.00      1.00      1.00        86\n",
            "     coconut       1.00      1.00      1.00        73\n",
            "      coffee       0.97      1.00      0.99        76\n",
            "      cotton       0.98      1.00      0.99        80\n",
            "      grapes       1.00      1.00      1.00        80\n",
            "        jute       0.78      0.98      0.87        81\n",
            " kidneybeans       0.87      1.00      0.93        84\n",
            "      lentil       0.98      0.98      0.98        82\n",
            "       maize       1.00      0.97      0.99        77\n",
            "       mango       1.00      1.00      1.00        83\n",
            "   mothbeans       0.99      0.97      0.98        78\n",
            "    mungbean       1.00      1.00      1.00        81\n",
            "   muskmelon       0.99      1.00      0.99        80\n",
            "      orange       1.00      1.00      1.00        81\n",
            "      papaya       1.00      0.99      0.99        82\n",
            "  pigeonpeas       1.00      0.81      0.89        84\n",
            " pomegranate       1.00      1.00      1.00        85\n",
            "        rice       1.00      0.74      0.85        84\n",
            "  watermelon       1.00      1.00      1.00        78\n",
            "\n",
            "    accuracy                           0.97      1760\n",
            "   macro avg       0.98      0.97      0.97      1760\n",
            "weighted avg       0.98      0.97      0.97      1760\n",
            "\n"
          ]
        }
      ],
      "source": [
        "from sklearn.svm import SVC\n",
        "# data normalization with sklearn\n",
        "from sklearn.preprocessing import MinMaxScaler\n",
        "# fit scaler on training data\n",
        "norm = MinMaxScaler().fit(Xtrain)\n",
        "X_train_norm = norm.transform(Xtrain)\n",
        "# transform testing dataabs\n",
        "X_test_norm = norm.transform(Xtest)\n",
        "SVM = SVC(kernel='poly', degree=3, C=1)\n",
        "SVM.fit(X_train_norm,Ytrain)\n",
        "predicted_values = SVM.predict(X_test_norm)\n",
        "x = metrics.accuracy_score(Ytest, predicted_values)\n",
        "acc.append(x)\n",
        "model.append('SVM-MC')\n",
        "print(\"SVM's Accuracy is: \", x)\n",
        "\n",
        "print(classification_report(Ytest,predicted_values))"
      ]
    },
    {
      "cell_type": "code",
      "source": [
        "from sklearn.svm import SVC\n",
        "# data normalization with sklearn\n",
        "from sklearn.preprocessing import MinMaxScaler\n",
        "# fit scaler on training data\n",
        "norm1 = MinMaxScaler().fit(Xtrain1)\n",
        "X_train_norm = norm1.transform(Xtrain1)\n",
        "# transform testing dataabs\n",
        "X_test_norm = norm1.transform(Xtest1)\n",
        "SVM = SVC(kernel='poly', degree=3, C=1)\n",
        "SVM.fit(X_train_norm,Ytrain1)\n",
        "predicted_values = SVM.predict(X_test_norm)\n",
        "x = metrics.accuracy_score(Ytest1, predicted_values)\n",
        "acc.append(x)\n",
        "model.append('SVM-CC')\n",
        "print(\"SVM's Accuracy is: \", x)\n",
        "\n",
        "print(classification_report(Ytest1,predicted_values))"
      ],
      "metadata": {
        "colab": {
          "base_uri": "https://localhost:8080/"
        },
        "id": "7IucJvzcRCXS",
        "outputId": "f0cc8f04-26b0-475d-e5ac-496ea6a88ccd"
      },
      "execution_count": 43,
      "outputs": [
        {
          "output_type": "stream",
          "name": "stdout",
          "text": [
            "SVM's Accuracy is:  1.0\n",
            "                precision    recall  f1-score   support\n",
            "\n",
            "       Alfalfa       1.00      1.00      1.00        80\n",
            "         Beans       1.00      1.00      1.00        84\n",
            "       Carrots       1.00      1.00      1.00        84\n",
            "     Coriander       1.00      1.00      1.00        85\n",
            "          Corn       1.00      1.00      1.00        86\n",
            "          Dill       1.00      1.00      1.00        81\n",
            "      Duckweed       1.00      1.00      1.00        84\n",
            "      Marigold       1.00      1.00      1.00       153\n",
            "      Rosemary       1.00      1.00      1.00        78\n",
            "Sweet Potatoes       1.00      1.00      1.00        72\n",
            "        banana       1.00      1.00      1.00        82\n",
            "         beans       1.00      1.00      1.00        76\n",
            "       berries       1.00      1.00      1.00        80\n",
            "     buckwheat       1.00      1.00      1.00        78\n",
            "       cabbage       1.00      1.00      1.00        81\n",
            "       carrots       1.00      1.00      1.00        81\n",
            "     cucumbers       1.00      1.00      1.00        82\n",
            "        ginger       1.00      1.00      1.00        83\n",
            "      lavender       1.00      1.00      1.00        77\n",
            "       pumpkin       1.00      1.00      1.00        80\n",
            "       turmeri       1.00      1.00      1.00        73\n",
            "\n",
            "      accuracy                           1.00      1760\n",
            "     macro avg       1.00      1.00      1.00      1760\n",
            "  weighted avg       1.00      1.00      1.00      1760\n",
            "\n"
          ]
        }
      ]
    },
    {
      "cell_type": "code",
      "source": [
        "from sklearn.svm import SVC\n",
        "# data normalization with sklearn\n",
        "from sklearn.preprocessing import MinMaxScaler\n",
        "# fit scaler on training data\n",
        "norm2 = MinMaxScaler().fit(Xtrain2)\n",
        "X_train_norm = norm2.transform(Xtrain2)\n",
        "# transform testing dataabs\n",
        "X_test_norm = norm2.transform(Xtest2)\n",
        "SVM = SVC(kernel='poly', degree=3, C=1)\n",
        "SVM.fit(X_train_norm,Ytrain2)\n",
        "predicted_values = SVM.predict(X_test_norm)\n",
        "x = metrics.accuracy_score(Ytest2, predicted_values)\n",
        "acc.append(x)\n",
        "model.append('SVM-TC')\n",
        "print(\"SVM's Accuracy is: \", x)\n",
        "\n",
        "print(classification_report(Ytest2,predicted_values))"
      ],
      "metadata": {
        "colab": {
          "base_uri": "https://localhost:8080/"
        },
        "id": "Oiq5sJuVRCM8",
        "outputId": "c18cadb2-82d5-4847-8086-13cc4df451d0"
      },
      "execution_count": 44,
      "outputs": [
        {
          "output_type": "stream",
          "name": "stdout",
          "text": [
            "SVM's Accuracy is:  1.0\n",
            "              precision    recall  f1-score   support\n",
            "\n",
            "    Amarnath       1.00      1.00      1.00        78\n",
            "   Desmodium       1.00      1.00      1.00        86\n",
            "  Dill Plant       1.00      1.00      1.00        72\n",
            "    Marigold       1.00      1.00      1.00       159\n",
            "      Millet       1.00      1.00      1.00       163\n",
            "     Mustard       1.00      1.00      1.00       168\n",
            "     Parsley       1.00      1.00      1.00        81\n",
            "Pearl Millet       1.00      1.00      1.00        84\n",
            "Pusa Basmati       1.00      1.00      1.00        84\n",
            "         Rye       1.00      1.00      1.00        78\n",
            "    Sesbania       1.00      1.00      1.00       165\n",
            "   Sunflower       1.00      1.00      1.00        80\n",
            "     Tobacco       1.00      1.00      1.00        80\n",
            "      Zinnia       1.00      1.00      1.00        73\n",
            "      castor       1.00      1.00      1.00        76\n",
            "     sorghum       1.00      1.00      1.00        77\n",
            "sweet clover       1.00      1.00      1.00        80\n",
            "       vetch       1.00      1.00      1.00        76\n",
            "\n",
            "    accuracy                           1.00      1760\n",
            "   macro avg       1.00      1.00      1.00      1760\n",
            "weighted avg       1.00      1.00      1.00      1760\n",
            "\n"
          ]
        }
      ]
    },
    {
      "cell_type": "code",
      "execution_count": 45,
      "metadata": {
        "colab": {
          "base_uri": "https://localhost:8080/"
        },
        "id": "NGu_YSnIa8X3",
        "outputId": "0d129754-13fe-49cb-908f-39bb3033c341"
      },
      "outputs": [
        {
          "output_type": "execute_result",
          "data": {
            "text/plain": [
              "array([0.97954545, 0.975     , 0.98863636, 0.98863636, 0.98181818])"
            ]
          },
          "metadata": {},
          "execution_count": 45
        }
      ],
      "source": [
        "# Cross validation score (SVM)\n",
        "score = cross_val_score(SVM,features,target,cv=5)\n",
        "score"
      ]
    },
    {
      "cell_type": "code",
      "execution_count": 46,
      "metadata": {
        "id": "gndckgAka8X3"
      },
      "outputs": [],
      "source": [
        "#Saving trained SVM model"
      ]
    },
    {
      "cell_type": "code",
      "execution_count": 47,
      "metadata": {
        "id": "n6_67gaca8X3"
      },
      "outputs": [],
      "source": [
        "import pickle\n",
        "# Dump the trained SVM classifier with Pickle\n",
        "SVM_pkl_filename = 'SVMClassifier.pkl'\n",
        "# Open the file to save as pkl file\n",
        "SVM_Model_pkl = open(SVM_pkl_filename, 'wb')\n",
        "pickle.dump(SVM, SVM_Model_pkl)\n",
        "# Close the pickle instances\n",
        "SVM_Model_pkl.close()"
      ]
    },
    {
      "cell_type": "markdown",
      "metadata": {
        "id": "ZwTfeVlla8X3"
      },
      "source": [
        "# Logistic Regression"
      ]
    },
    {
      "cell_type": "code",
      "execution_count": 48,
      "metadata": {
        "colab": {
          "base_uri": "https://localhost:8080/"
        },
        "id": "Jlqyz1xKa8X3",
        "outputId": "5743cff1-25db-4b68-97eb-6fac87fbc4d7"
      },
      "outputs": [
        {
          "output_type": "stream",
          "name": "stdout",
          "text": [
            "Logistic Regression's Accuracy is:  0.9232954545454546\n",
            "              precision    recall  f1-score   support\n",
            "\n",
            "       apple       1.00      1.00      1.00        77\n",
            "      banana       0.97      1.00      0.99        72\n",
            "   blackgram       0.81      0.84      0.83        76\n",
            "    chickpea       1.00      1.00      1.00        86\n",
            "     coconut       1.00      1.00      1.00        73\n",
            "      coffee       0.96      1.00      0.98        76\n",
            "      cotton       0.93      0.94      0.93        80\n",
            "      grapes       1.00      1.00      1.00        80\n",
            "        jute       0.70      0.90      0.79        81\n",
            " kidneybeans       0.99      0.99      0.99        84\n",
            "      lentil       0.84      0.94      0.89        82\n",
            "       maize       0.89      0.87      0.88        77\n",
            "       mango       0.95      0.98      0.96        83\n",
            "   mothbeans       0.81      0.77      0.79        78\n",
            "    mungbean       0.98      0.99      0.98        81\n",
            "   muskmelon       1.00      1.00      1.00        80\n",
            "      orange       1.00      1.00      1.00        81\n",
            "      papaya       0.92      0.66      0.77        82\n",
            "  pigeonpeas       0.92      0.82      0.87        84\n",
            " pomegranate       1.00      0.96      0.98        85\n",
            "        rice       0.71      0.68      0.70        84\n",
            "  watermelon       1.00      1.00      1.00        78\n",
            "\n",
            "    accuracy                           0.92      1760\n",
            "   macro avg       0.93      0.92      0.92      1760\n",
            "weighted avg       0.93      0.92      0.92      1760\n",
            "\n"
          ]
        }
      ],
      "source": [
        "from sklearn.linear_model import LogisticRegression\n",
        "\n",
        "LogReg = LogisticRegression(random_state=2)\n",
        "\n",
        "LogReg.fit(Xtrain,Ytrain)\n",
        "\n",
        "predicted_values = LogReg.predict(Xtest)\n",
        "\n",
        "x = metrics.accuracy_score(Ytest, predicted_values)\n",
        "acc.append(x)\n",
        "model.append('LR-MC')\n",
        "print(\"Logistic Regression's Accuracy is: \", x)\n",
        "\n",
        "print(classification_report(Ytest,predicted_values))"
      ]
    },
    {
      "cell_type": "code",
      "source": [
        "from sklearn.linear_model import LogisticRegression\n",
        "\n",
        "LogReg1 = LogisticRegression(random_state=2)\n",
        "\n",
        "LogReg1.fit(Xtrain1,Ytrain1)\n",
        "\n",
        "predicted_values = LogReg1.predict(Xtest1)\n",
        "\n",
        "x = metrics.accuracy_score(Ytest1, predicted_values)\n",
        "acc.append(x)\n",
        "model.append('LR-CC')\n",
        "print(\"Logistic Regression's Accuracy is: \", x)\n",
        "\n",
        "print(classification_report(Ytest1,predicted_values))"
      ],
      "metadata": {
        "colab": {
          "base_uri": "https://localhost:8080/"
        },
        "id": "uBOh5blYRycF",
        "outputId": "9086cf8f-c178-4183-8458-7a359208a9ba"
      },
      "execution_count": 49,
      "outputs": [
        {
          "output_type": "stream",
          "name": "stdout",
          "text": [
            "Logistic Regression's Accuracy is:  0.9676136363636364\n",
            "                precision    recall  f1-score   support\n",
            "\n",
            "       Alfalfa       1.00      0.97      0.99        80\n",
            "         Beans       1.00      0.92      0.96        84\n",
            "       Carrots       0.98      1.00      0.99        84\n",
            "     Coriander       1.00      1.00      1.00        85\n",
            "          Corn       1.00      1.00      1.00        86\n",
            "          Dill       1.00      1.00      1.00        81\n",
            "      Duckweed       0.90      0.82      0.86        84\n",
            "      Marigold       0.99      0.97      0.98       153\n",
            "      Rosemary       0.92      0.92      0.92        78\n",
            "Sweet Potatoes       1.00      1.00      1.00        72\n",
            "        banana       0.93      0.78      0.85        82\n",
            "         beans       0.92      1.00      0.96        76\n",
            "       berries       1.00      1.00      1.00        80\n",
            "     buckwheat       1.00      1.00      1.00        78\n",
            "       cabbage       0.96      1.00      0.98        81\n",
            "       carrots       0.88      0.95      0.91        81\n",
            "     cucumbers       0.89      1.00      0.94        82\n",
            "        ginger       0.95      1.00      0.98        83\n",
            "      lavender       1.00      1.00      1.00        77\n",
            "       pumpkin       1.00      1.00      1.00        80\n",
            "       turmeri       1.00      1.00      1.00        73\n",
            "\n",
            "      accuracy                           0.97      1760\n",
            "     macro avg       0.97      0.97      0.97      1760\n",
            "  weighted avg       0.97      0.97      0.97      1760\n",
            "\n"
          ]
        }
      ]
    },
    {
      "cell_type": "code",
      "source": [
        "from sklearn.linear_model import LogisticRegression\n",
        "\n",
        "LogReg2 = LogisticRegression(random_state=2)\n",
        "\n",
        "LogReg2.fit(Xtrain2,Ytrain2)\n",
        "\n",
        "predicted_values = LogReg2.predict(Xtest2)\n",
        "\n",
        "x = metrics.accuracy_score(Ytest2, predicted_values)\n",
        "acc.append(x)\n",
        "model.append('LR-TC')\n",
        "print(\"Logistic Regression's Accuracy is: \", x)\n",
        "\n",
        "print(classification_report(Ytest2,predicted_values))"
      ],
      "metadata": {
        "colab": {
          "base_uri": "https://localhost:8080/"
        },
        "id": "k0k7iwb8Rx48",
        "outputId": "e40c769a-d99a-4708-aca7-ead59d9b32b0"
      },
      "execution_count": 50,
      "outputs": [
        {
          "output_type": "stream",
          "name": "stdout",
          "text": [
            "Logistic Regression's Accuracy is:  0.9096590909090909\n",
            "              precision    recall  f1-score   support\n",
            "\n",
            "    Amarnath       1.00      1.00      1.00        78\n",
            "   Desmodium       1.00      1.00      1.00        86\n",
            "  Dill Plant       0.96      1.00      0.98        72\n",
            "    Marigold       0.78      0.98      0.87       159\n",
            "      Millet       0.93      0.78      0.85       163\n",
            "     Mustard       0.95      0.99      0.97       168\n",
            "     Parsley       0.79      0.96      0.87        81\n",
            "Pearl Millet       0.91      0.74      0.82        84\n",
            "Pusa Basmati       0.72      0.75      0.74        84\n",
            "         Rye       0.78      0.76      0.77        78\n",
            "    Sesbania       0.86      0.68      0.76       165\n",
            "   Sunflower       1.00      1.00      1.00        80\n",
            "     Tobacco       1.00      1.00      1.00        80\n",
            "      Zinnia       0.99      1.00      0.99        73\n",
            "      castor       0.96      1.00      0.98        76\n",
            "     sorghum       1.00      0.99      0.99        77\n",
            "sweet clover       1.00      1.00      1.00        80\n",
            "       vetch       0.95      1.00      0.97        76\n",
            "\n",
            "    accuracy                           0.91      1760\n",
            "   macro avg       0.92      0.92      0.92      1760\n",
            "weighted avg       0.91      0.91      0.91      1760\n",
            "\n"
          ]
        }
      ]
    },
    {
      "cell_type": "code",
      "execution_count": 51,
      "metadata": {
        "colab": {
          "base_uri": "https://localhost:8080/"
        },
        "id": "nKnhMTW9a8X3",
        "outputId": "dbd10258-7979-4c0d-a7e0-c697fbb42b9c"
      },
      "outputs": [
        {
          "output_type": "execute_result",
          "data": {
            "text/plain": [
              "array([0.95      , 0.96590909, 0.94772727, 0.96590909, 0.94318182])"
            ]
          },
          "metadata": {},
          "execution_count": 51
        }
      ],
      "source": [
        "# Cross validation score (Logistic Regression)\n",
        "score = cross_val_score(LogReg,features,target,cv=5)\n",
        "score"
      ]
    },
    {
      "cell_type": "markdown",
      "metadata": {
        "id": "hJpNKTh_a8X3"
      },
      "source": [
        "### Saving trained Logistic Regression model"
      ]
    },
    {
      "cell_type": "code",
      "execution_count": 52,
      "metadata": {
        "id": "jGZo1vT4a8X3"
      },
      "outputs": [],
      "source": [
        "import pickle\n",
        "# Dump the trained Naive Bayes classifier with Pickle\n",
        "LR_pkl_filename = 'LogisticRegression.pkl'\n",
        "# Open the file to save as pkl file\n",
        "LR_Model_pkl = open(DT_pkl_filename, 'wb')\n",
        "pickle.dump(LogReg, LR_Model_pkl)\n",
        "# Close the pickle instances\n",
        "LR_Model_pkl.close()"
      ]
    },
    {
      "cell_type": "markdown",
      "metadata": {
        "id": "Ru3lDFtpa8X3"
      },
      "source": [
        "# Random Forest"
      ]
    },
    {
      "cell_type": "code",
      "execution_count": 53,
      "metadata": {
        "colab": {
          "base_uri": "https://localhost:8080/"
        },
        "id": "ZKSdWhFya8X3",
        "outputId": "ff408040-cfc8-424a-b7c0-1d6bbb3da741"
      },
      "outputs": [
        {
          "output_type": "stream",
          "name": "stdout",
          "text": [
            "RF's Accuracy is:  0.9784090909090909\n",
            "              precision    recall  f1-score   support\n",
            "\n",
            "       apple       1.00      1.00      1.00        77\n",
            "      banana       1.00      1.00      1.00        72\n",
            "   blackgram       0.97      0.99      0.98        76\n",
            "    chickpea       1.00      1.00      1.00        86\n",
            "     coconut       1.00      1.00      1.00        73\n",
            "      coffee       0.99      0.96      0.97        76\n",
            "      cotton       0.98      1.00      0.99        80\n",
            "      grapes       1.00      1.00      1.00        80\n",
            "        jute       0.76      0.99      0.86        81\n",
            " kidneybeans       0.99      1.00      0.99        84\n",
            "      lentil       0.96      0.98      0.97        82\n",
            "       maize       0.96      0.99      0.97        77\n",
            "       mango       1.00      1.00      1.00        83\n",
            "   mothbeans       0.99      0.95      0.97        78\n",
            "    mungbean       1.00      1.00      1.00        81\n",
            "   muskmelon       1.00      1.00      1.00        80\n",
            "      orange       1.00      1.00      1.00        81\n",
            "      papaya       1.00      1.00      1.00        82\n",
            "  pigeonpeas       1.00      0.99      0.99        84\n",
            " pomegranate       1.00      1.00      1.00        85\n",
            "        rice       1.00      0.70      0.83        84\n",
            "  watermelon       1.00      1.00      1.00        78\n",
            "\n",
            "    accuracy                           0.98      1760\n",
            "   macro avg       0.98      0.98      0.98      1760\n",
            "weighted avg       0.98      0.98      0.98      1760\n",
            "\n"
          ]
        }
      ],
      "source": [
        "from sklearn.ensemble import RandomForestClassifier\n",
        "\n",
        "RF = RandomForestClassifier(n_estimators=20, random_state=0)\n",
        "RF.fit(Xtrain,Ytrain)\n",
        "\n",
        "predicted_values = RF.predict(Xtest)\n",
        "\n",
        "x = metrics.accuracy_score(Ytest, predicted_values)\n",
        "acc.append(x)\n",
        "model.append('RF-MC')\n",
        "print(\"RF's Accuracy is: \", x)\n",
        "\n",
        "print(classification_report(Ytest,predicted_values))"
      ]
    },
    {
      "cell_type": "code",
      "source": [
        "#comp_crops\n",
        "from sklearn.ensemble import RandomForestClassifier\n",
        "\n",
        "RF1 = RandomForestClassifier(n_estimators=20, random_state=0)\n",
        "RF1.fit(Xtrain1,Ytrain1)\n",
        "\n",
        "predicted_values = RF1.predict(Xtest1)\n",
        "\n",
        "x = metrics.accuracy_score(Ytest1, predicted_values)\n",
        "acc.append(x)\n",
        "model.append('RF-CC')\n",
        "print(\"RF1's Accuracy is: \", x)\n",
        "\n",
        "print(classification_report(Ytest1,predicted_values))"
      ],
      "metadata": {
        "colab": {
          "base_uri": "https://localhost:8080/"
        },
        "id": "CxzI-0S_kZT3",
        "outputId": "7f7e97e6-1c74-4fc5-94a5-e701cf1d48e3"
      },
      "execution_count": 54,
      "outputs": [
        {
          "output_type": "stream",
          "name": "stdout",
          "text": [
            "RF1's Accuracy is:  0.9977272727272727\n",
            "                precision    recall  f1-score   support\n",
            "\n",
            "       Alfalfa       0.99      1.00      0.99        80\n",
            "         Beans       1.00      1.00      1.00        84\n",
            "       Carrots       1.00      1.00      1.00        84\n",
            "     Coriander       1.00      1.00      1.00        85\n",
            "          Corn       1.00      1.00      1.00        86\n",
            "          Dill       1.00      1.00      1.00        81\n",
            "      Duckweed       1.00      0.99      0.99        84\n",
            "      Marigold       0.99      0.99      0.99       153\n",
            "      Rosemary       1.00      1.00      1.00        78\n",
            "Sweet Potatoes       1.00      1.00      1.00        72\n",
            "        banana       1.00      1.00      1.00        82\n",
            "         beans       1.00      0.97      0.99        76\n",
            "       berries       1.00      1.00      1.00        80\n",
            "     buckwheat       1.00      1.00      1.00        78\n",
            "       cabbage       1.00      1.00      1.00        81\n",
            "       carrots       0.99      1.00      0.99        81\n",
            "     cucumbers       1.00      1.00      1.00        82\n",
            "        ginger       1.00      1.00      1.00        83\n",
            "      lavender       1.00      1.00      1.00        77\n",
            "       pumpkin       1.00      1.00      1.00        80\n",
            "       turmeri       1.00      1.00      1.00        73\n",
            "\n",
            "      accuracy                           1.00      1760\n",
            "     macro avg       1.00      1.00      1.00      1760\n",
            "  weighted avg       1.00      1.00      1.00      1760\n",
            "\n"
          ]
        }
      ]
    },
    {
      "cell_type": "code",
      "source": [
        "#trap_crops\n",
        "from sklearn.ensemble import RandomForestClassifier\n",
        "\n",
        "RF2 = RandomForestClassifier(n_estimators=20, random_state=0)\n",
        "RF2.fit(Xtrain2,Ytrain2)\n",
        "\n",
        "predicted_values = RF2.predict(Xtest2)\n",
        "\n",
        "x = metrics.accuracy_score(Ytest2, predicted_values)\n",
        "acc.append(x)\n",
        "model.append('RF-TC')\n",
        "print(\"RF2's Accuracy is: \", x)\n",
        "\n",
        "print(classification_report(Ytest2,predicted_values))"
      ],
      "metadata": {
        "colab": {
          "base_uri": "https://localhost:8080/"
        },
        "id": "nmKwiwV1PsFF",
        "outputId": "afdadd55-6bd2-4aea-9e05-e1ae695f2361"
      },
      "execution_count": 55,
      "outputs": [
        {
          "output_type": "stream",
          "name": "stdout",
          "text": [
            "RF2's Accuracy is:  0.9994318181818181\n",
            "              precision    recall  f1-score   support\n",
            "\n",
            "    Amarnath       1.00      1.00      1.00        78\n",
            "   Desmodium       1.00      0.99      0.99        86\n",
            "  Dill Plant       1.00      1.00      1.00        72\n",
            "    Marigold       1.00      1.00      1.00       159\n",
            "      Millet       1.00      1.00      1.00       163\n",
            "     Mustard       1.00      1.00      1.00       168\n",
            "     Parsley       0.99      1.00      0.99        81\n",
            "Pearl Millet       1.00      1.00      1.00        84\n",
            "Pusa Basmati       1.00      1.00      1.00        84\n",
            "         Rye       1.00      1.00      1.00        78\n",
            "    Sesbania       1.00      1.00      1.00       165\n",
            "   Sunflower       1.00      1.00      1.00        80\n",
            "     Tobacco       1.00      1.00      1.00        80\n",
            "      Zinnia       1.00      1.00      1.00        73\n",
            "      castor       1.00      1.00      1.00        76\n",
            "     sorghum       1.00      1.00      1.00        77\n",
            "sweet clover       1.00      1.00      1.00        80\n",
            "       vetch       1.00      1.00      1.00        76\n",
            "\n",
            "    accuracy                           1.00      1760\n",
            "   macro avg       1.00      1.00      1.00      1760\n",
            "weighted avg       1.00      1.00      1.00      1760\n",
            "\n"
          ]
        }
      ]
    },
    {
      "cell_type": "code",
      "execution_count": 56,
      "metadata": {
        "colab": {
          "base_uri": "https://localhost:8080/"
        },
        "id": "l66E1SnAa8X4",
        "outputId": "2846f0aa-998e-4747-af54-83b7d26a6f0a"
      },
      "outputs": [
        {
          "output_type": "execute_result",
          "data": {
            "text/plain": [
              "array([0.99772727, 0.99545455, 0.99772727, 0.99318182, 0.98863636])"
            ]
          },
          "metadata": {},
          "execution_count": 56
        }
      ],
      "source": [
        "# Cross validation score (Random Forest)\n",
        "score = cross_val_score(RF,features,target,cv=5)\n",
        "score"
      ]
    },
    {
      "cell_type": "code",
      "source": [
        "# Cross validation score (Random Forest) comp_crops\n",
        "score = cross_val_score(RF1,features,target1,cv=5)\n",
        "score"
      ],
      "metadata": {
        "colab": {
          "base_uri": "https://localhost:8080/"
        },
        "id": "BzrQkdFPkwaO",
        "outputId": "5f7e03ae-8e1d-4189-e5a3-ed4b60493344"
      },
      "execution_count": 57,
      "outputs": [
        {
          "output_type": "execute_result",
          "data": {
            "text/plain": [
              "array([0.99090909, 0.98863636, 0.99318182, 0.99090909, 0.99318182])"
            ]
          },
          "metadata": {},
          "execution_count": 57
        }
      ]
    },
    {
      "cell_type": "code",
      "source": [
        "# Cross validation score (Random Forest) trap_crops\n",
        "score = cross_val_score(RF2,features,target2,cv=5)\n",
        "score"
      ],
      "metadata": {
        "colab": {
          "base_uri": "https://localhost:8080/"
        },
        "id": "Jg4QU5U8P8S-",
        "outputId": "edad55b4-4daf-4e73-db18-a6e9452649ee"
      },
      "execution_count": 58,
      "outputs": [
        {
          "output_type": "execute_result",
          "data": {
            "text/plain": [
              "array([0.99318182, 0.99772727, 0.99545455, 0.99318182, 0.99090909])"
            ]
          },
          "metadata": {},
          "execution_count": 58
        }
      ]
    },
    {
      "cell_type": "markdown",
      "metadata": {
        "id": "srKnajWRa8X4"
      },
      "source": [
        "### Saving trained Random Forest model"
      ]
    },
    {
      "cell_type": "code",
      "execution_count": 59,
      "metadata": {
        "id": "ObcZCE43a8X4"
      },
      "outputs": [],
      "source": [
        "import pickle\n",
        "# Dump the trained Naive Bayes classifier with Pickle\n",
        "RF_pkl_filename = 'RandomForest.pkl'\n",
        "# Open the file to save as pkl file\n",
        "RF_Model_pkl = open(RF_pkl_filename, 'wb')\n",
        "pickle.dump(RF, RF_Model_pkl)\n",
        "# Close the pickle instances\n",
        "RF_Model_pkl.close()"
      ]
    },
    {
      "cell_type": "code",
      "source": [
        "#comp_crops\n",
        "\n",
        "import pickle\n",
        "# Dump the trained Naive Bayes classifier with Pickle\n",
        "RF_pkl_filename = 'RandomForest1.pkl'\n",
        "# Open the file to save as pkl file\n",
        "RF_Model_pkl = open(RF_pkl_filename, 'wb')\n",
        "pickle.dump(RF1, RF_Model_pkl)\n",
        "# Close the pickle instances\n",
        "RF_Model_pkl.close()"
      ],
      "metadata": {
        "id": "X4UAaZ4klHOg"
      },
      "execution_count": 60,
      "outputs": []
    },
    {
      "cell_type": "code",
      "source": [
        "#trap_crops\n",
        "\n",
        "import pickle\n",
        "# Dump the trained Naive Bayes classifier with Pickle\n",
        "RF_pkl_filename = 'RandomForest2.pkl'\n",
        "# Open the file to save as pkl file\n",
        "RF_Model_pkl = open(RF_pkl_filename, 'wb')\n",
        "pickle.dump(RF1, RF_Model_pkl)\n",
        "# Close the pickle instances\n",
        "RF_Model_pkl.close()"
      ],
      "metadata": {
        "id": "4EH_VG6oQCtk"
      },
      "execution_count": 61,
      "outputs": []
    },
    {
      "cell_type": "markdown",
      "metadata": {
        "id": "KsEAddhMa8X4"
      },
      "source": [
        "## Accuracy Comparison"
      ]
    },
    {
      "cell_type": "code",
      "source": [
        "print(model)"
      ],
      "metadata": {
        "colab": {
          "base_uri": "https://localhost:8080/"
        },
        "id": "qsZrgcUGNkqk",
        "outputId": "f2997db0-898e-4647-b296-aebd00085a35"
      },
      "execution_count": 62,
      "outputs": [
        {
          "output_type": "stream",
          "name": "stdout",
          "text": [
            "['DT-MC', 'DT-CC', 'DT-TC', 'NB-MC', 'NB-CC', 'NB-TC', 'SVM-MC', 'SVM-CC', 'SVM-TC', 'LR-MC', 'LR-CC', 'LR-TC', 'RF-MC', 'RF-CC', 'RF-TC']\n"
          ]
        }
      ]
    },
    {
      "cell_type": "code",
      "execution_count": 72,
      "metadata": {
        "colab": {
          "base_uri": "https://localhost:8080/",
          "height": 435
        },
        "id": "seGtdZ3Ea8X4",
        "outputId": "6f658b37-63d2-4f5b-e2db-9bd7f26b5cf0"
      },
      "outputs": [
        {
          "output_type": "execute_result",
          "data": {
            "text/plain": [
              "<Axes: title={'center': 'Accuracy Comparison'}, xlabel='Algorithm', ylabel='Accuracy'>"
            ]
          },
          "metadata": {},
          "execution_count": 72
        },
        {
          "output_type": "display_data",
          "data": {
            "text/plain": [
              "<Figure size 1250x500 with 1 Axes>"
            ],
            "image/png": "[encoded data removed]"
          },
          "metadata": {}
        }
      ],
      "source": [
        "plt.figure(figsize=[12.5,5],dpi = 100)\n",
        "plt.title('Accuracy Comparison')\n",
        "plt.xlabel('Algorithm')\n",
        "plt.ylabel('Accuracy')\n",
        "sns.barplot(x = model,y = acc,palette='dark')"
      ]
    },
    {
      "cell_type": "code",
      "execution_count": 64,
      "metadata": {
        "colab": {
          "base_uri": "https://localhost:8080/"
        },
        "id": "G_IYRTyQa8X4",
        "outputId": "a0a8f783-219a-4f85-8fe3-6a37a5097918"
      },
      "outputs": [
        {
          "output_type": "stream",
          "name": "stdout",
          "text": [
            "NB-MC --> 0.9903409090909091\n",
            "RF-CC --> 0.9977272727272727\n",
            "RF-TC --> 0.9994318181818181\n"
          ]
        }
      ],
      "source": [
        "accuracy_models = dict(zip(model, acc))\n",
        "for k, v in accuracy_models.items():\n",
        "  if k in ['NB-MC', 'RF-CC', 'RF-TC']:\n",
        "    print (k, '-->', v)"
      ]
    },
    {
      "cell_type": "code",
      "source": [
        "accuracy_models = dict(zip(model, acc))\n",
        "for k, v in accuracy_models.items():\n",
        "  print (k, '-->', v)"
      ],
      "metadata": {
        "colab": {
          "base_uri": "https://localhost:8080/"
        },
        "id": "lTn-o_iZAtl5",
        "outputId": "1baacf96-9c5b-401a-9096-0a44b693b9cd"
      },
      "execution_count": 65,
      "outputs": [
        {
          "output_type": "stream",
          "name": "stdout",
          "text": [
            "DT-MC --> 0.8460227272727273\n",
            "DT-CC --> 0.9369318181818181\n",
            "DT-TC --> 0.8988636363636363\n",
            "NB-MC --> 0.9903409090909091\n",
            "NB-CC --> 1.0\n",
            "NB-TC --> 0.9534090909090909\n",
            "SVM-MC --> 0.9732954545454545\n",
            "SVM-CC --> 1.0\n",
            "SVM-TC --> 1.0\n",
            "LR-MC --> 0.9232954545454546\n",
            "LR-CC --> 0.9676136363636364\n",
            "LR-TC --> 0.9096590909090909\n",
            "RF-MC --> 0.9784090909090909\n",
            "RF-CC --> 0.9977272727272727\n",
            "RF-TC --> 0.9994318181818181\n"
          ]
        }
      ]
    },
    {
      "cell_type": "markdown",
      "metadata": {
        "id": "YwoF1WTsa8X4"
      },
      "source": [
        "## Making a prediction"
      ]
    },
    {
      "cell_type": "code",
      "execution_count": 81,
      "metadata": {
        "colab": {
          "base_uri": "https://localhost:8080/"
        },
        "id": "l7wUH-O4a8X5",
        "outputId": "514b41ca-e759-4bce-f42d-7e7370b90ef8"
      },
      "outputs": [
        {
          "output_type": "stream",
          "name": "stdout",
          "text": [
            "Main-Crop: ['jute']\n",
            "Companion-Crop: ['carrots']\n",
            "Trap-Crop: ['Parsley']\n"
          ]
        }
      ],
      "source": [
        "data = np.array([[70,39, 60, 23.603016, 60.3, 6.7, 140.91]])\n",
        "Main_Crop_Prediction = NaiveBayes.predict(data)\n",
        "encoded = le.transform([Main_Crop_Prediction])\n",
        "data1 = np.array([[70,39, 60, 23.603016, 60.3, 6.7, 140.91,encoded]])\n",
        "Comanion_Crop_prediction = RF1.predict(data1)\n",
        "Trap_Crop_Prediction = RF2.predict(data1)\n",
        "print(\"Main-Crop: \"+str(Main_Crop_Prediction))\n",
        "print(\"Companion-Crop: \"+str(Comanion_Crop_prediction))\n",
        "print(\"Trap-Crop: \"+str(Trap_Crop_Prediction))"
      ]
    },
    {
      "cell_type": "code",
      "source": [
        "data = np.array([[91,57, 42, 21.853135, 80.9, 5.5, 243.83]])\n",
        "Main_Crop_Prediction = NaiveBayes.predict(data)\n",
        "encoded = le.transform([Main_Crop_Prediction])\n",
        "data1 = np.array([[91,57, 42, 21.853135, 80.9, 5.5, 243.83,encoded]])\n",
        "Comanion_Crop_prediction = RF1.predict(data1)\n",
        "Trap_Crop_Prediction = RF2.predict(data1)\n",
        "print(\"Main-Crop: \"+str(Main_Crop_Prediction))\n",
        "print(\"Companion-Crop: \"+str(Comanion_Crop_prediction))\n",
        "print(\"Trap-Crop: \"+str(Trap_Crop_Prediction))"
      ],
      "metadata": {
        "colab": {
          "base_uri": "https://localhost:8080/"
        },
        "id": "NxKUVZaWvEw1",
        "outputId": "54aa56f9-e805-4387-f96c-ca94d9e79d9e"
      },
      "execution_count": 82,
      "outputs": [
        {
          "output_type": "stream",
          "name": "stdout",
          "text": [
            "Main-Crop: ['rice']\n",
            "Companion-Crop: ['Duckweed']\n",
            "Trap-Crop: ['Pusa Basmati']\n"
          ]
        }
      ]
    }
  ],
  "metadata": {
    "kernelspec": {
      "display_name": "Python 3",
      "language": "python",
      "name": "python3"
    },
    "language_info": {
      "codemirror_mode": {
        "name": "ipython",
        "version": 3
      },
      "file_extension": ".py",
      "mimetype": "text/x-python",
      "name": "python",
      "nbconvert_exporter": "python",
      "pygments_lexer": "ipython3",
      "version": "3.8.5"
    },
    "colab": {
      "provenance": []
    }
  },
  "nbformat": 4,
  "nbformat_minor": 0
}